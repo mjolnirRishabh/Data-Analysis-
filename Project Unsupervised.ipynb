{
 "cells": [
  {
   "cell_type": "code",
   "execution_count": 1,
   "id": "9bc161de",
   "metadata": {},
   "outputs": [],
   "source": [
    "# Library\n",
    "import pandas as pd\n",
    "import numpy as np\n",
    "import matplotlib.pyplot as plt\n",
    "import seaborn as sns"
   ]
  },
  {
   "cell_type": "code",
   "execution_count": 2,
   "id": "203b27e0",
   "metadata": {},
   "outputs": [
    {
     "data": {
      "text/html": [
       "<div>\n",
       "<style scoped>\n",
       "    .dataframe tbody tr th:only-of-type {\n",
       "        vertical-align: middle;\n",
       "    }\n",
       "\n",
       "    .dataframe tbody tr th {\n",
       "        vertical-align: top;\n",
       "    }\n",
       "\n",
       "    .dataframe thead th {\n",
       "        text-align: right;\n",
       "    }\n",
       "</style>\n",
       "<table border=\"1\" class=\"dataframe\">\n",
       "  <thead>\n",
       "    <tr style=\"text-align: right;\">\n",
       "      <th></th>\n",
       "      <th>name</th>\n",
       "      <th>mpg</th>\n",
       "      <th>cylinders</th>\n",
       "      <th>displacement</th>\n",
       "      <th>horsepower</th>\n",
       "      <th>weight</th>\n",
       "      <th>acceleration</th>\n",
       "      <th>model_year</th>\n",
       "      <th>origin</th>\n",
       "    </tr>\n",
       "  </thead>\n",
       "  <tbody>\n",
       "    <tr>\n",
       "      <th>0</th>\n",
       "      <td>chevrolet chevelle malibu</td>\n",
       "      <td>18.0</td>\n",
       "      <td>8</td>\n",
       "      <td>307.0</td>\n",
       "      <td>130.0</td>\n",
       "      <td>3504</td>\n",
       "      <td>12.0</td>\n",
       "      <td>70</td>\n",
       "      <td>usa</td>\n",
       "    </tr>\n",
       "    <tr>\n",
       "      <th>1</th>\n",
       "      <td>buick skylark 320</td>\n",
       "      <td>15.0</td>\n",
       "      <td>8</td>\n",
       "      <td>350.0</td>\n",
       "      <td>165.0</td>\n",
       "      <td>3693</td>\n",
       "      <td>11.5</td>\n",
       "      <td>70</td>\n",
       "      <td>usa</td>\n",
       "    </tr>\n",
       "    <tr>\n",
       "      <th>2</th>\n",
       "      <td>plymouth satellite</td>\n",
       "      <td>18.0</td>\n",
       "      <td>8</td>\n",
       "      <td>318.0</td>\n",
       "      <td>150.0</td>\n",
       "      <td>3436</td>\n",
       "      <td>11.0</td>\n",
       "      <td>70</td>\n",
       "      <td>usa</td>\n",
       "    </tr>\n",
       "    <tr>\n",
       "      <th>3</th>\n",
       "      <td>amc rebel sst</td>\n",
       "      <td>16.0</td>\n",
       "      <td>8</td>\n",
       "      <td>304.0</td>\n",
       "      <td>150.0</td>\n",
       "      <td>3433</td>\n",
       "      <td>12.0</td>\n",
       "      <td>70</td>\n",
       "      <td>usa</td>\n",
       "    </tr>\n",
       "    <tr>\n",
       "      <th>4</th>\n",
       "      <td>ford torino</td>\n",
       "      <td>17.0</td>\n",
       "      <td>8</td>\n",
       "      <td>302.0</td>\n",
       "      <td>140.0</td>\n",
       "      <td>3449</td>\n",
       "      <td>10.5</td>\n",
       "      <td>70</td>\n",
       "      <td>usa</td>\n",
       "    </tr>\n",
       "    <tr>\n",
       "      <th>...</th>\n",
       "      <td>...</td>\n",
       "      <td>...</td>\n",
       "      <td>...</td>\n",
       "      <td>...</td>\n",
       "      <td>...</td>\n",
       "      <td>...</td>\n",
       "      <td>...</td>\n",
       "      <td>...</td>\n",
       "      <td>...</td>\n",
       "    </tr>\n",
       "    <tr>\n",
       "      <th>393</th>\n",
       "      <td>ford mustang gl</td>\n",
       "      <td>27.0</td>\n",
       "      <td>4</td>\n",
       "      <td>140.0</td>\n",
       "      <td>86.0</td>\n",
       "      <td>2790</td>\n",
       "      <td>15.6</td>\n",
       "      <td>82</td>\n",
       "      <td>usa</td>\n",
       "    </tr>\n",
       "    <tr>\n",
       "      <th>394</th>\n",
       "      <td>vw pickup</td>\n",
       "      <td>44.0</td>\n",
       "      <td>4</td>\n",
       "      <td>97.0</td>\n",
       "      <td>52.0</td>\n",
       "      <td>2130</td>\n",
       "      <td>24.6</td>\n",
       "      <td>82</td>\n",
       "      <td>europe</td>\n",
       "    </tr>\n",
       "    <tr>\n",
       "      <th>395</th>\n",
       "      <td>dodge rampage</td>\n",
       "      <td>32.0</td>\n",
       "      <td>4</td>\n",
       "      <td>135.0</td>\n",
       "      <td>84.0</td>\n",
       "      <td>2295</td>\n",
       "      <td>11.6</td>\n",
       "      <td>82</td>\n",
       "      <td>usa</td>\n",
       "    </tr>\n",
       "    <tr>\n",
       "      <th>396</th>\n",
       "      <td>ford ranger</td>\n",
       "      <td>28.0</td>\n",
       "      <td>4</td>\n",
       "      <td>120.0</td>\n",
       "      <td>79.0</td>\n",
       "      <td>2625</td>\n",
       "      <td>18.6</td>\n",
       "      <td>82</td>\n",
       "      <td>usa</td>\n",
       "    </tr>\n",
       "    <tr>\n",
       "      <th>397</th>\n",
       "      <td>chevy s-10</td>\n",
       "      <td>31.0</td>\n",
       "      <td>4</td>\n",
       "      <td>119.0</td>\n",
       "      <td>82.0</td>\n",
       "      <td>2720</td>\n",
       "      <td>19.4</td>\n",
       "      <td>82</td>\n",
       "      <td>usa</td>\n",
       "    </tr>\n",
       "  </tbody>\n",
       "</table>\n",
       "<p>398 rows × 9 columns</p>\n",
       "</div>"
      ],
      "text/plain": [
       "                          name   mpg  cylinders  displacement  horsepower  \\\n",
       "0    chevrolet chevelle malibu  18.0          8         307.0       130.0   \n",
       "1            buick skylark 320  15.0          8         350.0       165.0   \n",
       "2           plymouth satellite  18.0          8         318.0       150.0   \n",
       "3                amc rebel sst  16.0          8         304.0       150.0   \n",
       "4                  ford torino  17.0          8         302.0       140.0   \n",
       "..                         ...   ...        ...           ...         ...   \n",
       "393            ford mustang gl  27.0          4         140.0        86.0   \n",
       "394                  vw pickup  44.0          4          97.0        52.0   \n",
       "395              dodge rampage  32.0          4         135.0        84.0   \n",
       "396                ford ranger  28.0          4         120.0        79.0   \n",
       "397                 chevy s-10  31.0          4         119.0        82.0   \n",
       "\n",
       "     weight  acceleration  model_year  origin  \n",
       "0      3504          12.0          70     usa  \n",
       "1      3693          11.5          70     usa  \n",
       "2      3436          11.0          70     usa  \n",
       "3      3433          12.0          70     usa  \n",
       "4      3449          10.5          70     usa  \n",
       "..      ...           ...         ...     ...  \n",
       "393    2790          15.6          82     usa  \n",
       "394    2130          24.6          82  europe  \n",
       "395    2295          11.6          82     usa  \n",
       "396    2625          18.6          82     usa  \n",
       "397    2720          19.4          82     usa  \n",
       "\n",
       "[398 rows x 9 columns]"
      ]
     },
     "execution_count": 2,
     "metadata": {},
     "output_type": "execute_result"
    }
   ],
   "source": [
    "df = pd.read_csv('C:\\\\Users\\\\msi\\\\Desktop\\\\Automobile.csv')\n",
    "df"
   ]
  },
  {
   "cell_type": "code",
   "execution_count": 69,
   "id": "99a2b3c8",
   "metadata": {},
   "outputs": [
    {
     "data": {
      "text/plain": [
       "156    6\n",
       "266    5\n",
       "10     5\n",
       "150    5\n",
       "51     4\n",
       "      ..\n",
       "60     1\n",
       "154    1\n",
       "240    1\n",
       "12     1\n",
       "69     1\n",
       "Name: name, Length: 305, dtype: int64"
      ]
     },
     "execution_count": 69,
     "metadata": {},
     "output_type": "execute_result"
    }
   ],
   "source": [
    "df['name'].value_counts()"
   ]
  },
  {
   "cell_type": "code",
   "execution_count": 72,
   "id": "90cc591b",
   "metadata": {},
   "outputs": [],
   "source": [
    "# df.values"
   ]
  },
  {
   "cell_type": "code",
   "execution_count": 74,
   "id": "e6e1b35a",
   "metadata": {},
   "outputs": [
    {
     "name": "stdout",
     "output_type": "stream",
     "text": [
      "[[4.900e+01 1.800e+01 8.000e+00 3.070e+02 1.300e+02 3.504e+03 1.200e+01\n",
      "  7.000e+01 2.000e+00]\n",
      " [3.600e+01 1.500e+01 8.000e+00 3.500e+02 1.650e+02 3.693e+03 1.150e+01\n",
      "  7.000e+01 2.000e+00]\n",
      " [2.310e+02 1.800e+01 8.000e+00 3.180e+02 1.500e+02 3.436e+03 1.100e+01\n",
      "  7.000e+01 2.000e+00]]\n"
     ]
    }
   ],
   "source": [
    "# Dataframe into numpy array\n",
    "\n",
    "dfkm = df.values\n",
    "print(dfkm[:3])"
   ]
  },
  {
   "cell_type": "code",
   "execution_count": 75,
   "id": "39ba587a",
   "metadata": {},
   "outputs": [
    {
     "data": {
      "text/plain": [
       "(array([[ 49.,  18.,   8., 307.],\n",
       "        [ 36.,  15.,   8., 350.],\n",
       "        [231.,  18.,   8., 318.]]),\n",
       " array([2., 2., 2.]))"
      ]
     },
     "execution_count": 75,
     "metadata": {},
     "output_type": "execute_result"
    }
   ],
   "source": [
    "x = dfkm[:,0:4]\n",
    "y = dfkm[:,-1]\n",
    "x[:3],y[:3]"
   ]
  },
  {
   "cell_type": "code",
   "execution_count": 76,
   "id": "9f41ff9d",
   "metadata": {},
   "outputs": [
    {
     "data": {
      "text/plain": [
       "sklearn.cluster._kmeans.KMeans"
      ]
     },
     "execution_count": 76,
     "metadata": {},
     "output_type": "execute_result"
    }
   ],
   "source": [
    "# Import K_means model\n",
    "\n",
    "from sklearn import cluster\n",
    "cluster.KMeans"
   ]
  },
  {
   "cell_type": "code",
   "execution_count": 77,
   "id": "d2c7b781",
   "metadata": {},
   "outputs": [
    {
     "data": {
      "text/plain": [
       "156    6\n",
       "266    5\n",
       "10     5\n",
       "150    5\n",
       "51     4\n",
       "      ..\n",
       "60     1\n",
       "154    1\n",
       "240    1\n",
       "12     1\n",
       "69     1\n",
       "Name: name, Length: 305, dtype: int64"
      ]
     },
     "execution_count": 77,
     "metadata": {},
     "output_type": "execute_result"
    }
   ],
   "source": [
    "# Qualitative into Quantitative \n",
    "\n",
    "from sklearn.preprocessing import LabelEncoder\n",
    "le = LabelEncoder()\n",
    "df['name']=le.fit_transform(df['name'])\n",
    "df['name'].value_counts()"
   ]
  },
  {
   "cell_type": "code",
   "execution_count": 78,
   "id": "44502d2b",
   "metadata": {},
   "outputs": [
    {
     "name": "stderr",
     "output_type": "stream",
     "text": [
      "C:\\ProgramData\\Anaconda3\\lib\\site-packages\\sklearn\\cluster\\_kmeans.py:881: UserWarning: KMeans is known to have a memory leak on Windows with MKL, when there are less chunks than available threads. You can avoid it by setting the environment variable OMP_NUM_THREADS=2.\n",
      "  warnings.warn(\n"
     ]
    },
    {
     "data": {
      "image/png": "[encoded data removed]",
      "text/plain": [
       "<Figure size 432x288 with 1 Axes>"
      ]
     },
     "metadata": {
      "needs_background": "light"
     },
     "output_type": "display_data"
    }
   ],
   "source": [
    "# Defining cluster from elbow curve method\n",
    "\n",
    "l=[]\n",
    "for i in range(1,11):\n",
    "    km=cluster.KMeans(i)\n",
    "    km.fit(df.values[:,1:3])\n",
    "    l.append(km.inertia_)\n",
    "plt.plot(range(1,11),l) # l = l[:10]\n",
    "plt.grid()\n",
    "plt.show()"
   ]
  },
  {
   "cell_type": "code",
   "execution_count": 79,
   "id": "62d97985",
   "metadata": {},
   "outputs": [
    {
     "data": {
      "text/plain": [
       "KMeans(n_clusters=3)"
      ]
     },
     "execution_count": 79,
     "metadata": {},
     "output_type": "execute_result"
    }
   ],
   "source": [
    "k_m = cluster.KMeans(n_clusters=3) # 3 define cluster\n",
    "k_m"
   ]
  },
  {
   "cell_type": "code",
   "execution_count": 80,
   "id": "2b5f1ad0",
   "metadata": {},
   "outputs": [
    {
     "data": {
      "text/plain": [
       "KMeans(n_clusters=3)"
      ]
     },
     "execution_count": 80,
     "metadata": {},
     "output_type": "execute_result"
    }
   ],
   "source": [
    "km = k_m.fit(x)\n",
    "km"
   ]
  },
  {
   "cell_type": "code",
   "execution_count": 81,
   "id": "8b745364",
   "metadata": {},
   "outputs": [
    {
     "data": {
      "text/plain": [
       "array([0, 0, 0, 0, 0, 0, 0, 0, 0, 0, 0, 0, 0, 0, 2, 2, 1, 1, 1, 2, 2, 1,\n",
       "       2, 1, 1, 0, 0, 0, 0, 1, 1, 2, 2, 1, 2, 1, 0, 1, 0, 0, 0, 0, 0, 0,\n",
       "       0, 1, 1, 2, 0, 2, 2, 2, 1, 2, 1, 2, 2, 2, 1, 2, 1, 2, 0, 0, 0, 0,\n",
       "       0, 0, 0, 0, 0, 2, 0, 0, 0, 0, 2, 2, 2, 2, 2, 1, 2, 1, 2, 0, 0, 0,\n",
       "       0, 0, 0, 0, 0, 0, 0, 0, 0, 2, 1, 1, 0, 2, 2, 0, 0, 0, 0, 1, 2, 1,\n",
       "       1, 2, 2, 2, 1, 0, 0, 1, 2, 1, 2, 0, 2, 2, 0, 2, 1, 1, 1, 1, 2, 2,\n",
       "       1, 1, 1, 2, 0, 0, 0, 0, 0, 1, 2, 2, 2, 1, 1, 1, 1, 2, 2, 1, 2, 1,\n",
       "       0, 0, 0, 0, 0, 0, 1, 1, 1, 2, 1, 0, 0, 2, 2, 1, 2, 2, 2, 1, 1, 2,\n",
       "       1, 1, 2, 2, 2, 2, 1, 2, 1, 1, 2, 0, 0, 0, 0, 2, 1, 1, 1, 1, 1, 2,\n",
       "       2, 1, 0, 2, 1, 2, 1, 2, 2, 2, 0, 2, 2, 2, 0, 0, 0, 0, 2, 1, 2, 2,\n",
       "       1, 0, 0, 0, 0, 1, 1, 2, 0, 0, 0, 0, 0, 2, 2, 2, 2, 1, 1, 2, 2, 1,\n",
       "       1, 2, 2, 1, 2, 1, 2, 0, 0, 0, 2, 1, 1, 1, 2, 1, 1, 2, 1, 1, 0, 1,\n",
       "       0, 0, 1, 2, 1, 1, 2, 2, 2, 1, 1, 2, 2, 2, 2, 2, 2, 2, 1, 1, 1, 0,\n",
       "       0, 0, 0, 0, 0, 0, 0, 2, 2, 1, 1, 2, 0, 2, 0, 2, 2, 1, 1, 1, 1, 2,\n",
       "       2, 2, 2, 1, 1, 1, 1, 1, 1, 1, 2, 2, 1, 2, 2, 1, 1, 2, 2, 1, 2, 2,\n",
       "       2, 2, 2, 1, 2, 2, 2, 2, 2, 1, 1, 1, 2, 2, 2, 2, 2, 1, 2, 2, 2, 1,\n",
       "       1, 2, 2, 2, 2, 1, 2, 2, 2, 2, 1, 1, 0, 1, 1, 1, 1, 1, 2, 1, 2, 1,\n",
       "       1, 2, 2, 2, 2, 2, 2, 2, 2, 2, 2, 1, 1, 0, 1, 0, 2, 1, 1, 2, 2, 1,\n",
       "       2, 1])"
      ]
     },
     "execution_count": 81,
     "metadata": {},
     "output_type": "execute_result"
    }
   ],
   "source": [
    "# K-Mean algorithm clustring - output/target/y - Species\n",
    "\n",
    "km_predict = km.labels_\n",
    "km_predict"
   ]
  },
  {
   "cell_type": "code",
   "execution_count": 82,
   "id": "3e087b2b",
   "metadata": {},
   "outputs": [],
   "source": [
    "centre_point = km.cluster_centers_"
   ]
  },
  {
   "cell_type": "code",
   "execution_count": 84,
   "id": "ab6bf8bf",
   "metadata": {},
   "outputs": [
    {
     "data": {
      "text/plain": [
       "(   name   mpg  cylinders  displacement  horsepower  weight  acceleration  \\\n",
       " 0    49  18.0          8         307.0       130.0    3504          12.0   \n",
       " 1    36  15.0          8         350.0       165.0    3693          11.5   \n",
       " \n",
       "    model_year  origin  \n",
       " 0          70       2  \n",
       " 1          70       2  ,\n",
       " 156    6\n",
       " 266    5\n",
       " 10     5\n",
       " 150    5\n",
       " 51     4\n",
       "       ..\n",
       " 60     1\n",
       " 154    1\n",
       " 240    1\n",
       " 12     1\n",
       " 69     1\n",
       " Name: name, Length: 305, dtype: int64)"
      ]
     },
     "execution_count": 84,
     "metadata": {},
     "output_type": "execute_result"
    }
   ],
   "source": [
    "df.head(2),df['name'].value_counts()"
   ]
  },
  {
   "cell_type": "code",
   "execution_count": 85,
   "id": "320ebdd2",
   "metadata": {},
   "outputs": [],
   "source": [
    "center_point = km.cluster_centers_"
   ]
  },
  {
   "cell_type": "code",
   "execution_count": 86,
   "id": "0b20b112",
   "metadata": {},
   "outputs": [
    {
     "data": {
      "text/plain": [
       "array([0, 0, 0, 0, 0, 0, 0, 0, 0, 0, 0, 0, 0, 0, 2, 2, 1, 1, 1, 2, 2, 1,\n",
       "       2, 1, 1, 0, 0, 0, 0, 1, 1, 2, 2, 1, 2, 1, 0, 1, 0, 0, 0, 0, 0, 0,\n",
       "       0, 1, 1, 2, 0, 2, 2, 2, 1, 2, 1, 2, 2, 2, 1, 2, 1, 2, 0, 0, 0, 0,\n",
       "       0, 0, 0, 0, 0, 2, 0, 0, 0, 0, 2, 2, 2, 2, 2, 1, 2, 1, 2, 0, 0, 0,\n",
       "       0, 0, 0, 0, 0, 0, 0, 0, 0, 2, 1, 1, 0, 2, 2, 0, 0, 0, 0, 1, 2, 1,\n",
       "       1, 2, 2, 2, 1, 0, 0, 1, 2, 1, 2, 0, 2, 2, 0, 2, 1, 1, 1, 1, 2, 2,\n",
       "       1, 1, 1, 2, 0, 0, 0, 0, 0, 1, 2, 2, 2, 1, 1, 1, 1, 2, 2, 1, 2, 1,\n",
       "       0, 0, 0, 0, 0, 0, 1, 1, 1, 2, 1, 0, 0, 2, 2, 1, 2, 2, 2, 1, 1, 2,\n",
       "       1, 1, 2, 2, 2, 2, 1, 2, 1, 1, 2, 0, 0, 0, 0, 2, 1, 1, 1, 1, 1, 2,\n",
       "       2, 1, 0, 2, 1, 2, 1, 2, 2, 2, 0, 2, 2, 2, 0, 0, 0, 0, 2, 1, 2, 2,\n",
       "       1, 0, 0, 0, 0, 1, 1, 2, 0, 0, 0, 0, 0, 2, 2, 2, 2, 1, 1, 2, 2, 1,\n",
       "       1, 2, 2, 1, 2, 1, 2, 0, 0, 0, 2, 1, 1, 1, 2, 1, 1, 2, 1, 1, 0, 1,\n",
       "       0, 0, 1, 2, 1, 1, 2, 2, 2, 1, 1, 2, 2, 2, 2, 2, 2, 2, 1, 1, 1, 0,\n",
       "       0, 0, 0, 0, 0, 0, 0, 2, 2, 1, 1, 2, 0, 2, 0, 2, 2, 1, 1, 1, 1, 2,\n",
       "       2, 2, 2, 1, 1, 1, 1, 1, 1, 1, 2, 2, 1, 2, 2, 1, 1, 2, 2, 1, 2, 2,\n",
       "       2, 2, 2, 1, 2, 2, 2, 2, 2, 1, 1, 1, 2, 2, 2, 2, 2, 1, 2, 2, 2, 1,\n",
       "       1, 2, 2, 2, 2, 1, 2, 2, 2, 2, 1, 1, 0, 1, 1, 1, 1, 1, 2, 1, 2, 1,\n",
       "       1, 2, 2, 2, 2, 2, 2, 2, 2, 2, 2, 1, 1, 0, 1, 0, 2, 1, 1, 2, 2, 1,\n",
       "       2, 1])"
      ]
     },
     "execution_count": 86,
     "metadata": {},
     "output_type": "execute_result"
    }
   ],
   "source": [
    "y = km_predict\n",
    "y"
   ]
  },
  {
   "cell_type": "code",
   "execution_count": 87,
   "id": "acf5b146",
   "metadata": {},
   "outputs": [
    {
     "data": {
      "text/plain": [
       "array([18. , 15. , 18. , 16. , 17. , 15. , 14. , 14. , 14. , 15. , 15. ,\n",
       "       14. , 15. , 14. , 24. , 22. , 18. , 21. , 27. , 26. , 25. , 24. ,\n",
       "       25. , 26. , 21. , 10. , 10. , 11. ,  9. , 27. , 28. , 25. , 25. ,\n",
       "       19. , 16. , 17. , 19. , 18. , 14. , 14. , 14. , 14. , 12. , 13. ,\n",
       "       13. , 18. , 22. , 19. , 18. , 23. , 28. , 30. , 30. , 31. , 35. ,\n",
       "       27. , 26. , 24. , 25. , 23. , 20. , 21. , 13. , 14. , 15. , 14. ,\n",
       "       17. , 11. , 13. , 12. , 13. , 19. , 15. , 13. , 13. , 14. , 18. ,\n",
       "       22. , 21. , 26. , 22. , 28. , 23. , 28. , 27. , 13. , 14. , 13. ,\n",
       "       14. , 15. , 12. , 13. , 13. , 14. , 13. , 12. , 13. , 18. , 16. ,\n",
       "       18. , 18. , 23. , 26. , 11. , 12. , 13. , 12. , 18. , 20. , 21. ,\n",
       "       22. , 18. , 19. , 21. , 26. , 15. , 16. , 29. , 24. , 20. , 19. ,\n",
       "       15. , 24. , 20. , 11. , 20. , 21. , 19. , 15. , 31. , 26. , 32. ,\n",
       "       25. , 16. , 16. , 18. , 16. , 13. , 14. , 14. , 14. , 29. , 26. ,\n",
       "       26. , 31. , 32. , 28. , 24. , 26. , 24. , 26. , 31. , 19. , 18. ,\n",
       "       15. , 15. , 16. , 15. , 16. , 14. , 17. , 16. , 15. , 18. , 21. ,\n",
       "       20. , 13. , 29. , 23. , 20. , 23. , 24. , 25. , 24. , 18. , 29. ,\n",
       "       19. , 23. , 23. , 22. , 25. , 33. , 28. , 25. , 25. , 26. , 27. ,\n",
       "       17.5, 16. , 15.5, 14.5, 22. , 22. , 24. , 22.5, 29. , 24.5, 29. ,\n",
       "       33. , 20. , 18. , 18.5, 17.5, 29.5, 32. , 28. , 26.5, 20. , 13. ,\n",
       "       19. , 19. , 16.5, 16.5, 13. , 13. , 13. , 31.5, 30. , 36. , 25.5,\n",
       "       33.5, 17.5, 17. , 15.5, 15. , 17.5, 20.5, 19. , 18.5, 16. , 15.5,\n",
       "       15.5, 16. , 29. , 24.5, 26. , 25.5, 30.5, 33.5, 30. , 30.5, 22. ,\n",
       "       21.5, 21.5, 43.1, 36.1, 32.8, 39.4, 36.1, 19.9, 19.4, 20.2, 19.2,\n",
       "       20.5, 20.2, 25.1, 20.5, 19.4, 20.6, 20.8, 18.6, 18.1, 19.2, 17.7,\n",
       "       18.1, 17.5, 30. , 27.5, 27.2, 30.9, 21.1, 23.2, 23.8, 23.9, 20.3,\n",
       "       17. , 21.6, 16.2, 31.5, 29.5, 21.5, 19.8, 22.3, 20.2, 20.6, 17. ,\n",
       "       17.6, 16.5, 18.2, 16.9, 15.5, 19.2, 18.5, 31.9, 34.1, 35.7, 27.4,\n",
       "       25.4, 23. , 27.2, 23.9, 34.2, 34.5, 31.8, 37.3, 28.4, 28.8, 26.8,\n",
       "       33.5, 41.5, 38.1, 32.1, 37.2, 28. , 26.4, 24.3, 19.1, 34.3, 29.8,\n",
       "       31.3, 37. , 32.2, 46.6, 27.9, 40.8, 44.3, 43.4, 36.4, 30. , 44.6,\n",
       "       40.9, 33.8, 29.8, 32.7, 23.7, 35. , 23.6, 32.4, 27.2, 26.6, 25.8,\n",
       "       23.5, 30. , 39.1, 39. , 35.1, 32.3, 37. , 37.7, 34.1, 34.7, 34.4,\n",
       "       29.9, 33. , 34.5, 33.7, 32.4, 32.9, 31.6, 28.1, 30.7, 25.4, 24.2,\n",
       "       22.4, 26.6, 20.2, 17.6, 28. , 27. , 34. , 31. , 29. , 27. , 24. ,\n",
       "       23. , 36. , 37. , 31. , 38. , 36. , 36. , 36. , 34. , 38. , 32. ,\n",
       "       38. , 25. , 38. , 26. , 22. , 32. , 36. , 27. , 27. , 44. , 32. ,\n",
       "       28. , 31. ])"
      ]
     },
     "execution_count": 87,
     "metadata": {},
     "output_type": "execute_result"
    }
   ],
   "source": [
    "x[:,1]"
   ]
  },
  {
   "cell_type": "code",
   "execution_count": 88,
   "id": "07bbd6fe",
   "metadata": {},
   "outputs": [
    {
     "data": {
      "text/plain": [
       "array([18. , 15. , 18. , 16. , 17. , 15. , 14. , 14. , 14. , 15. , 15. ,\n",
       "       14. , 15. , 14. , 10. , 10. , 11. ,  9. , 19. , 14. , 14. , 14. ,\n",
       "       14. , 12. , 13. , 13. , 18. , 13. , 14. , 15. , 14. , 17. , 11. ,\n",
       "       13. , 12. , 13. , 15. , 13. , 13. , 14. , 13. , 14. , 13. , 14. ,\n",
       "       15. , 12. , 13. , 13. , 14. , 13. , 12. , 13. , 18. , 11. , 12. ,\n",
       "       13. , 12. , 15. , 16. , 15. , 11. , 16. , 13. , 14. , 14. , 14. ,\n",
       "       15. , 15. , 16. , 15. , 16. , 14. , 20. , 13. , 17.5, 16. , 15.5,\n",
       "       14.5, 18. , 13. , 16.5, 13. , 13. , 13. , 17.5, 17. , 15.5, 15. ,\n",
       "       18.5, 16. , 15.5, 15.5, 16. , 19.9, 19.4, 20.2, 19.2, 18.1, 17.5,\n",
       "       17. , 17.6, 16.5, 18.2, 16.9, 15.5, 19.2, 18.5, 23. , 23.9, 26.6,\n",
       "       38. , 22. ])"
      ]
     },
     "execution_count": 88,
     "metadata": {},
     "output_type": "execute_result"
    }
   ],
   "source": [
    "x[y==0,1]   #  x[ centroid == setosa,sepallength]"
   ]
  },
  {
   "cell_type": "code",
   "execution_count": 89,
   "id": "4bdb798a",
   "metadata": {},
   "outputs": [
    {
     "data": {
      "text/plain": [
       "array([[123.58035714,  15.38125   ,   7.83928571, 337.32142857],\n",
       "       [ 67.94573643,  25.40077519,   4.7751938 , 154.07364341],\n",
       "       [232.59235669,  27.76687898,   4.31210191, 123.10828025]])"
      ]
     },
     "execution_count": 89,
     "metadata": {},
     "output_type": "execute_result"
    }
   ],
   "source": [
    "km.cluster_centers_"
   ]
  },
  {
   "cell_type": "code",
   "execution_count": 91,
   "id": "67a31dec",
   "metadata": {},
   "outputs": [
    {
     "data": {
      "text/plain": [
       "(array([123.58035714,  67.94573643, 232.59235669]),\n",
       " array([15.38125   , 25.40077519, 27.76687898]))"
      ]
     },
     "execution_count": 91,
     "metadata": {},
     "output_type": "execute_result"
    }
   ],
   "source": [
    "km.cluster_centers_[:,0],km.cluster_centers_[:,1]"
   ]
  },
  {
   "cell_type": "code",
   "execution_count": 93,
   "id": "2efd51cb",
   "metadata": {},
   "outputs": [
    {
     "data": {
      "image/png": "[encoded data removed]",
      "text/plain": [
       "<Figure size 720x216 with 1 Axes>"
      ]
     },
     "metadata": {
      "needs_background": "light"
     },
     "output_type": "display_data"
    },
    {
     "data": {
      "text/plain": [
       "(name\n",
       " 0      13.00\n",
       " 1      15.00\n",
       " 2      17.00\n",
       " 3      21.85\n",
       " 4      18.10\n",
       "        ...  \n",
       " 300    43.40\n",
       " 301    44.00\n",
       " 302    35.25\n",
       " 303    44.30\n",
       " 304    31.90\n",
       " Name: mpg, Length: 305, dtype: float64,\n",
       " name\n",
       " 0      13.0\n",
       " 1      15.0\n",
       " 2      17.0\n",
       " 3      24.3\n",
       " 4      18.1\n",
       "        ... \n",
       " 300    43.4\n",
       " 301    44.0\n",
       " 302    41.5\n",
       " 303    44.3\n",
       " 304    31.9\n",
       " Name: mpg, Length: 305, dtype: float64)"
      ]
     },
     "execution_count": 93,
     "metadata": {},
     "output_type": "execute_result"
    }
   ],
   "source": [
    "plt.figure(figsize=(10,3))\n",
    "plt.scatter(x[y==0,0],x[y==0,1],s=150,c='red',label= 0)\n",
    "plt.scatter(x[y==1,0],x[y==1,1],s=150,c='blue',label= 1)\n",
    "plt.scatter(x[y==2,0],x[y==2,1],s=150,c='green',label= 2)\n",
    "\n",
    "plt.scatter(km.cluster_centers_[:,0],km.cluster_centers_[:,1],s=100,c='black',label='Centrods')\n",
    "plt.legend()\n",
    "plt.show()\n",
    "# df.describe()\n",
    "df.groupby(['name'])['mpg'].mean(),df.groupby(['name'])['mpg'].max()"
   ]
  },
  {
   "cell_type": "code",
   "execution_count": 94,
   "id": "f2bfdb00",
   "metadata": {},
   "outputs": [
    {
     "data": {
      "text/plain": [
       "array([0, 0, 0, 0, 0, 0, 0, 0, 0, 0, 0, 0, 0, 0, 2, 2, 1, 1, 1, 2, 2, 1,\n",
       "       2, 1, 1, 0, 0, 0, 0, 1, 1, 2, 2, 1, 2, 1, 0, 1, 0, 0, 0, 0, 0, 0,\n",
       "       0, 1, 1, 2, 0, 2, 2, 2, 1, 2, 1, 2, 2, 2, 1, 2, 1, 2, 0, 0, 0, 0,\n",
       "       0, 0, 0, 0, 0, 2, 0, 0, 0, 0, 2, 2, 2, 2, 2, 1, 2, 1, 2, 0, 0, 0,\n",
       "       0, 0, 0, 0, 0, 0, 0, 0, 0, 2, 1, 1, 0, 2, 2, 0, 0, 0, 0, 1, 2, 1,\n",
       "       1, 2, 2, 2, 1, 0, 0, 1, 2, 1, 2, 0, 2, 2, 0, 2, 1, 1, 1, 1, 2, 2,\n",
       "       1, 1, 1, 2, 0, 0, 0, 0, 0, 1, 2, 2, 2, 1, 1, 1, 1, 2, 2, 1, 2, 1,\n",
       "       0, 0, 0, 0, 0, 0, 1, 1, 1, 2, 1, 0, 0, 2, 2, 1, 2, 2, 2, 1, 1, 2,\n",
       "       1, 1, 2, 2, 2, 2, 1, 2, 1, 1, 2, 0, 0, 0, 0, 2, 1, 1, 1, 1, 1, 2,\n",
       "       2, 1, 0, 2, 1, 2, 1, 2, 2, 2, 0, 2, 2, 2, 0, 0, 0, 0, 2, 1, 2, 2,\n",
       "       1, 0, 0, 0, 0, 1, 1, 2, 0, 0, 0, 0, 0, 2, 2, 2, 2, 1, 1, 2, 2, 1,\n",
       "       1, 2, 2, 1, 2, 1, 2, 0, 0, 0, 2, 1, 1, 1, 2, 1, 1, 2, 1, 1, 0, 1,\n",
       "       0, 0, 1, 2, 1, 1, 2, 2, 2, 1, 1, 2, 2, 2, 2, 2, 2, 2, 1, 1, 1, 0,\n",
       "       0, 0, 0, 0, 0, 0, 0, 2, 2, 1, 1, 2, 0, 2, 0, 2, 2, 1, 1, 1, 1, 2,\n",
       "       2, 2, 2, 1, 1, 1, 1, 1, 1, 1, 2, 2, 1, 2, 2, 1, 1, 2, 2, 1, 2, 2,\n",
       "       2, 2, 2, 1, 2, 2, 2, 2, 2, 1, 1, 1, 2, 2, 2, 2, 2, 1, 2, 2, 2, 1,\n",
       "       1, 2, 2, 2, 2, 1, 2, 2, 2, 2, 1, 1, 0, 1, 1, 1, 1, 1, 2, 1, 2, 1,\n",
       "       1, 2, 2, 2, 2, 2, 2, 2, 2, 2, 2, 1, 1, 0, 1, 0, 2, 1, 1, 2, 2, 1,\n",
       "       2, 1])"
      ]
     },
     "execution_count": 94,
     "metadata": {},
     "output_type": "execute_result"
    }
   ],
   "source": [
    "km.labels_"
   ]
  },
  {
   "cell_type": "code",
   "execution_count": 96,
   "id": "11f0942e",
   "metadata": {},
   "outputs": [],
   "source": [
    "df['name'] = df['name'].replace({1:0,0:1,2:2})"
   ]
  },
  {
   "cell_type": "code",
   "execution_count": 97,
   "id": "287ee9ff",
   "metadata": {},
   "outputs": [
    {
     "name": "stdout",
     "output_type": "stream",
     "text": [
      "0.17839195979899497\n",
      "              precision    recall  f1-score   support\n",
      "\n",
      "         0.0       0.00      0.00      0.00        70\n",
      "         1.0       0.18      0.29      0.22        79\n",
      "         2.0       0.31      0.19      0.24       249\n",
      "\n",
      "    accuracy                           0.18       398\n",
      "   macro avg       0.16      0.16      0.15       398\n",
      "weighted avg       0.23      0.18      0.19       398\n",
      "\n"
     ]
    },
    {
     "data": {
      "image/png": "[encoded data removed]",
      "text/plain": [
       "<Figure size 144x144 with 2 Axes>"
      ]
     },
     "metadata": {
      "needs_background": "light"
     },
     "output_type": "display_data"
    },
    {
     "name": "stdout",
     "output_type": "stream",
     "text": [
      "col_0    0   1   2\n",
      "row_0             \n",
      "0.0      0  17  53\n",
      "1.0      0  23  56\n",
      "2.0    112  89  48\n"
     ]
    }
   ],
   "source": [
    "from sklearn.metrics import confusion_matrix, accuracy_score, classification_report\n",
    "cm=confusion_matrix(df.values[:,-1],km.labels_)\n",
    "print(accuracy_score(df.values[:,-1],km.labels_))\n",
    "print(classification_report(df.values[:,-1],km.labels_))\n",
    "plt.figure(figsize=(2,2))\n",
    "sns.heatmap(cm,annot=True)\n",
    "plt.xlabel('actual')\n",
    "plt.ylabel('predicted')\n",
    "plt.show()\n",
    "import pandas as pd\n",
    "kmp=pd.crosstab(df.values[:,-1],km.labels_)\n",
    "print(kmp)"
   ]
  },
  {
   "cell_type": "code",
   "execution_count": 98,
   "id": "73035511",
   "metadata": {},
   "outputs": [],
   "source": [
    "# Hierachical Clustering\n",
    "\n",
    "from sklearn import datasets\n",
    "from sklearn.cluster import AgglomerativeClustering\n",
    "from scipy.cluster.hierarchy import dendrogram,linkage\n",
    "import matplotlib.pyplot as plt"
   ]
  },
  {
   "cell_type": "code",
   "execution_count": 105,
   "id": "bc3d31ab",
   "metadata": {},
   "outputs": [],
   "source": [
    "dfhc = df.values #Convert into numpy array\n",
    "dfhc[:2]\n",
    "x = dfhc[:,1:2]\n",
    "y = dfhc[:,-1]"
   ]
  },
  {
   "cell_type": "code",
   "execution_count": 106,
   "id": "0a6fdf22",
   "metadata": {},
   "outputs": [
    {
     "data": {
      "image/png": "[encoded data removed]",
      "text/plain": [
       "<Figure size 1008x504 with 1 Axes>"
      ]
     },
     "metadata": {
      "needs_background": "light"
     },
     "output_type": "display_data"
    }
   ],
   "source": [
    "linkage_matrix = linkage(x,'ward')\n",
    "plot = plt.figure(figsize = (14,7))\n",
    "dendrogram(linkage_matrix,color_threshold=0)\n",
    "plt.title('agglomerative clustering dendrogram (linkage = ward)')\n",
    "plt.xlabel('sample index or (cluster size)')\n",
    "plt.ylabel('distance')\n",
    "plt.show()"
   ]
  },
  {
   "cell_type": "code",
   "execution_count": 107,
   "id": "84290c2d",
   "metadata": {},
   "outputs": [],
   "source": [
    "hc = AgglomerativeClustering(linkage='ward',n_clusters=3)"
   ]
  },
  {
   "cell_type": "code",
   "execution_count": 108,
   "id": "e6f99ad4",
   "metadata": {},
   "outputs": [
    {
     "data": {
      "text/plain": [
       "array([0, 0, 0, 0, 0, 0, 0, 0, 0, 0, 0, 0, 0, 0, 0, 0, 0, 0, 1, 1, 1, 0,\n",
       "       1, 1, 0, 0, 0, 0, 0, 1, 1, 1, 1, 0, 0, 0, 0, 0, 0, 0, 0, 0, 0, 0,\n",
       "       0, 0, 0, 0, 0, 0, 1, 1, 1, 1, 1, 1, 1, 0, 1, 0, 0, 0, 0, 0, 0, 0,\n",
       "       0, 0, 0, 0, 0, 0, 0, 0, 0, 0, 0, 0, 0, 1, 0, 1, 0, 1, 1, 0, 0, 0,\n",
       "       0, 0, 0, 0, 0, 0, 0, 0, 0, 0, 0, 0, 0, 0, 1, 0, 0, 0, 0, 0, 0, 0,\n",
       "       0, 0, 0, 0, 1, 0, 0, 1, 0, 0, 0, 0, 0, 0, 0, 0, 0, 0, 0, 1, 1, 1,\n",
       "       1, 0, 0, 0, 0, 0, 0, 0, 0, 1, 1, 1, 1, 1, 1, 0, 1, 0, 1, 1, 0, 0,\n",
       "       0, 0, 0, 0, 0, 0, 0, 0, 0, 0, 0, 0, 0, 1, 0, 0, 0, 0, 1, 0, 0, 1,\n",
       "       0, 0, 0, 0, 1, 1, 1, 1, 1, 1, 1, 0, 0, 0, 0, 0, 0, 0, 0, 1, 0, 1,\n",
       "       1, 0, 0, 0, 0, 1, 1, 1, 1, 0, 0, 0, 0, 0, 0, 0, 0, 0, 1, 1, 2, 1,\n",
       "       1, 0, 0, 0, 0, 0, 0, 0, 0, 0, 0, 0, 0, 1, 0, 1, 1, 1, 1, 1, 1, 0,\n",
       "       0, 0, 2, 2, 1, 2, 2, 0, 0, 0, 0, 0, 0, 1, 0, 0, 0, 0, 0, 0, 0, 0,\n",
       "       0, 0, 1, 1, 1, 1, 0, 0, 0, 0, 0, 0, 0, 0, 1, 1, 0, 0, 0, 0, 0, 0,\n",
       "       0, 0, 0, 0, 0, 0, 0, 1, 1, 2, 1, 1, 0, 1, 0, 1, 1, 1, 2, 1, 1, 1,\n",
       "       1, 2, 2, 1, 2, 1, 1, 0, 0, 1, 1, 1, 2, 1, 2, 1, 2, 2, 2, 2, 1, 2,\n",
       "       2, 1, 1, 1, 0, 1, 0, 1, 1, 1, 1, 0, 1, 2, 2, 1, 1, 2, 2, 1, 1, 1,\n",
       "       1, 1, 1, 1, 1, 1, 1, 1, 1, 1, 0, 0, 1, 0, 0, 1, 1, 1, 1, 1, 1, 0,\n",
       "       0, 2, 2, 1, 2, 2, 2, 2, 1, 2, 1, 2, 1, 2, 1, 0, 1, 2, 1, 1, 2, 1,\n",
       "       1, 1], dtype=int64)"
      ]
     },
     "execution_count": 108,
     "metadata": {},
     "output_type": "execute_result"
    }
   ],
   "source": [
    "hc.fit(x)\n",
    "hc_labels = hc.labels_\n",
    "hc_labels"
   ]
  },
  {
   "cell_type": "code",
   "execution_count": 109,
   "id": "9b5979f4",
   "metadata": {},
   "outputs": [
    {
     "data": {
      "image/png": "[encoded data removed]",
      "text/plain": [
       "<Figure size 1008x504 with 1 Axes>"
      ]
     },
     "metadata": {
      "needs_background": "light"
     },
     "output_type": "display_data"
    }
   ],
   "source": [
    "plot_2 = plt.figure(figsize = (14,7))\n",
    "dendrogram(linkage_matrix,truncate_mode = 'lastp',\n",
    "p = 20,\n",
    "leaf_rotation = 90 ,\n",
    "leaf_font_size=12,\n",
    "show_contracted=True)\n",
    "plt.title('agglomerative clustering dendrogram (linkage=ward)')\n",
    "plt.xlabel('sample index or (cluster size)')\n",
    "plt.ylabel('distance')\n",
    "plt.show()"
   ]
  },
  {
   "cell_type": "code",
   "execution_count": 110,
   "id": "b7432ad8",
   "metadata": {},
   "outputs": [
    {
     "data": {
      "text/plain": [
       "array([0, 0, 0, 0, 0, 0, 0, 0, 0, 0, 0, 0, 0, 0, 0, 0, 0, 0, 1, 1, 1, 0,\n",
       "       1, 1, 0, 0, 0, 0, 0, 1, 1, 1, 1, 0, 0, 0, 0, 0, 0, 0, 0, 0, 0, 0,\n",
       "       0, 0, 0, 0, 0, 0, 1, 1, 1, 1, 1, 1, 1, 0, 1, 0, 0, 0, 0, 0, 0, 0,\n",
       "       0, 0, 0, 0, 0, 0, 0, 0, 0, 0, 0, 0, 0, 1, 0, 1, 0, 1, 1, 0, 0, 0,\n",
       "       0, 0, 0, 0, 0, 0, 0, 0, 0, 0, 0, 0, 0, 0, 1, 0, 0, 0, 0, 0, 0, 0,\n",
       "       0, 0, 0, 0, 1, 0, 0, 1, 0, 0, 0, 0, 0, 0, 0, 0, 0, 0, 0, 1, 1, 1,\n",
       "       1, 0, 0, 0, 0, 0, 0, 0, 0, 1, 1, 1, 1, 1, 1, 0, 1, 0, 1, 1, 0, 0,\n",
       "       0, 0, 0, 0, 0, 0, 0, 0, 0, 0, 0, 0, 0, 1, 0, 0, 0, 0, 1, 0, 0, 1,\n",
       "       0, 0, 0, 0, 1, 1, 1, 1, 1, 1, 1, 0, 0, 0, 0, 0, 0, 0, 0, 1, 0, 1,\n",
       "       1, 0, 0, 0, 0, 1, 1, 1, 1, 0, 0, 0, 0, 0, 0, 0, 0, 0, 1, 1, 2, 1,\n",
       "       1, 0, 0, 0, 0, 0, 0, 0, 0, 0, 0, 0, 0, 1, 0, 1, 1, 1, 1, 1, 1, 0,\n",
       "       0, 0, 2, 2, 1, 2, 2, 0, 0, 0, 0, 0, 0, 1, 0, 0, 0, 0, 0, 0, 0, 0,\n",
       "       0, 0, 1, 1, 1, 1, 0, 0, 0, 0, 0, 0, 0, 0, 1, 1, 0, 0, 0, 0, 0, 0,\n",
       "       0, 0, 0, 0, 0, 0, 0, 1, 1, 2, 1, 1, 0, 1, 0, 1, 1, 1, 2, 1, 1, 1,\n",
       "       1, 2, 2, 1, 2, 1, 1, 0, 0, 1, 1, 1, 2, 1, 2, 1, 2, 2, 2, 2, 1, 2,\n",
       "       2, 1, 1, 1, 0, 1, 0, 1, 1, 1, 1, 0, 1, 2, 2, 1, 1, 2, 2, 1, 1, 1,\n",
       "       1, 1, 1, 1, 1, 1, 1, 1, 1, 1, 0, 0, 1, 0, 0, 1, 1, 1, 1, 1, 1, 0,\n",
       "       0, 2, 2, 1, 2, 2, 2, 2, 1, 2, 1, 2, 1, 2, 1, 0, 1, 2, 1, 1, 2, 1,\n",
       "       1, 1], dtype=int64)"
      ]
     },
     "execution_count": 110,
     "metadata": {},
     "output_type": "execute_result"
    }
   ],
   "source": [
    "hc.labels_"
   ]
  },
  {
   "cell_type": "code",
   "execution_count": 112,
   "id": "cfd05ec0",
   "metadata": {},
   "outputs": [],
   "source": [
    "df['name'] = df['name'].replace({0:1,1:0,2:2}) "
   ]
  },
  {
   "cell_type": "code",
   "execution_count": 113,
   "id": "05bcaa58",
   "metadata": {},
   "outputs": [
    {
     "name": "stdout",
     "output_type": "stream",
     "text": [
      "0.18341708542713567\n",
      "              precision    recall  f1-score   support\n",
      "\n",
      "         0.0       0.09      0.30      0.14        70\n",
      "         1.0       0.33      0.57      0.42        79\n",
      "         2.0       0.21      0.03      0.05       249\n",
      "\n",
      "    accuracy                           0.18       398\n",
      "   macro avg       0.21      0.30      0.20       398\n",
      "weighted avg       0.21      0.18      0.14       398\n",
      "\n"
     ]
    },
    {
     "data": {
      "image/png": "[encoded data removed]",
      "text/plain": [
       "<Figure size 144x144 with 2 Axes>"
      ]
     },
     "metadata": {
      "needs_background": "light"
     },
     "output_type": "display_data"
    },
    {
     "name": "stdout",
     "output_type": "stream",
     "text": [
      "col_0    0   1   2\n",
      "row_0             \n",
      "0.0     21  39  10\n",
      "1.0     18  45  16\n",
      "2.0    190  52   7\n"
     ]
    }
   ],
   "source": [
    "from sklearn.metrics import confusion_matrix, accuracy_score, classification_report\n",
    "cm=confusion_matrix(df.values[:,-1],hc.labels_)\n",
    "print(accuracy_score(df.values[:,-1],hc.labels_))\n",
    "print(classification_report(df.values[:,-1],hc.labels_))\n",
    "plt.figure(figsize=(2,2))\n",
    "sns.heatmap(cm,annot=True)\n",
    "plt.xlabel('actual')\n",
    "plt.ylabel('predicted')\n",
    "plt.show()\n",
    "import pandas as pd\n",
    "kmp=pd.crosstab(df.values[:,-1],hc.labels_)\n",
    "print(kmp)"
   ]
  },
  {
   "cell_type": "code",
   "execution_count": null,
   "id": "c02a3cab",
   "metadata": {},
   "outputs": [],
   "source": []
  }
 ],
 "metadata": {
  "kernelspec": {
   "display_name": "Python 3 (ipykernel)",
   "language": "python",
   "name": "python3"
  },
  "language_info": {
   "codemirror_mode": {
    "name": "ipython",
    "version": 3
   },
   "file_extension": ".py",
   "mimetype": "text/x-python",
   "name": "python",
   "nbconvert_exporter": "python",
   "pygments_lexer": "ipython3",
   "version": "3.9.7"
  }
 },
 "nbformat": 4,
 "nbformat_minor": 5
}
